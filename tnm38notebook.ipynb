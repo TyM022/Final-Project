{
 "cells": [
  {
   "cell_type": "markdown",
   "id": "a8da8dfc-a48f-444e-a5ce-f3d220871ccf",
   "metadata": {},
   "source": [
    "# City Facilities"
   ]
  },
  {
   "cell_type": "code",
   "execution_count": null,
   "id": "a0fa0d76-84a9-4fbe-80d2-d0159c6d1612",
   "metadata": {},
   "outputs": [],
   "source": []
  }
 ],
 "metadata": {
  "kernelspec": {
   "display_name": "Python 3 (ipykernel)",
   "language": "python",
   "name": "python3"
  },
  "language_info": {
   "codemirror_mode": {
    "name": "ipython",
    "version": 3
   },
   "file_extension": ".py",
   "mimetype": "text/x-python",
   "name": "python",
   "nbconvert_exporter": "python",
   "pygments_lexer": "ipython3",
   "version": "3.12.4"
  }
 },
 "nbformat": 4,
 "nbformat_minor": 5
}
